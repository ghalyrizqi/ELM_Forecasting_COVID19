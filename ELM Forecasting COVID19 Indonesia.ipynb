{
 "cells": [
  {
   "cell_type": "code",
   "execution_count": 1,
   "metadata": {},
   "outputs": [],
   "source": [
    "import pandas as pd\n",
    "import numpy as np"
   ]
  },
  {
   "cell_type": "code",
   "execution_count": 2,
   "metadata": {},
   "outputs": [],
   "source": [
    "#import matplotlib.pyplot as plt \n",
    "#import matplotlib.colors as mcolors"
   ]
  },
  {
   "cell_type": "code",
   "execution_count": 3,
   "metadata": {},
   "outputs": [
    {
     "output_type": "stream",
     "name": "stdout",
     "text": [
      "[[109.]\n [130.]\n [129.]\n [114.]\n [149.]\n [113.]\n [196.]\n [106.]\n [181.]\n [218.]\n [247.]\n [218.]\n [337.]\n [219.]\n [330.]\n [399.]\n [316.]\n [282.]\n [297.]\n [380.]\n [407.]\n [325.]\n [327.]\n [185.]\n [375.]\n [283.]\n [357.]\n [436.]\n [396.]\n [275.]\n [214.]\n [415.]\n [260.]\n [347.]]\n"
     ]
    }
   ],
   "source": [
    "data = pd.read_excel('manual.xlsx',sheet_name=0, index_col=0)\n",
    "data = np.asarray(data, dtype=float)\n",
    "print(data)"
   ]
  },
  {
   "cell_type": "code",
   "execution_count": 4,
   "metadata": {},
   "outputs": [],
   "source": [
    "#data_positif.plot( 'tanggal','jumlah_positif', title='Kasus Harian Positif COVID-19 di Indonesia',xlabel='bulan',ylabel='jumlah kasus',grid=True)"
   ]
  },
  {
   "cell_type": "code",
   "execution_count": 5,
   "metadata": {},
   "outputs": [],
   "source": [
    "#data_sembuh.plot( 'tanggal' , 'jumlah_sembuh', color='green', title='Kasus Harian Sembuh COVID-19 di Indonesia',xlabel='bulan',ylabel='jumlah kasus',grid=True)"
   ]
  },
  {
   "cell_type": "code",
   "execution_count": 6,
   "metadata": {},
   "outputs": [],
   "source": [
    "#data_meninggal.plot( 'tanggal' , 'jumlah_meninggal',color='red', title='Kasus Harian Meninggal COVID-19 di Indonesia',xlabel='bulan',ylabel='jumlah kasus',grid=True)"
   ]
  },
  {
   "cell_type": "markdown",
   "metadata": {},
   "source": [
    "# Normalisasi Data"
   ]
  },
  {
   "cell_type": "code",
   "execution_count": 7,
   "metadata": {},
   "outputs": [],
   "source": [
    "def normalisasi_minmax(data):\n",
    "    normalisasiData = []\n",
    "    maksimimal = np.max(data, axis=0)\n",
    "    minimal = np.min(data, axis=0)\n",
    "    for x in data:\n",
    "        x_normalisasi = (x-maksimal)/(maksimimal-minimal)\n",
    "        normalisasiData.append(round(float(x_normalisasi),5))\n",
    "    return normalisasiData\n",
    "normalisasiData = normalisasi(data)\n",
    "datanormalisasi = pd.DataFrame(normalisasiData)"
   ]
  },
  {
   "cell_type": "code",
   "execution_count": 8,
   "metadata": {},
   "outputs": [],
   "source": [
    "# pre-processing\n",
    "def jumlahfitur(data, jumlah_fitur):\n",
    "    input_fitur=list()\n",
    "    target=list()\n",
    "    for i in range(len(data)):\n",
    "        index_terakhir= i+jumlah_fitur\n",
    "        if index_terakhir>len(data)-1:\n",
    "            break\n",
    "        else:\n",
    "            sequence_fitur = data[i:index_terakhir]\n",
    "            sequence_target = data[index_terakhir]\n",
    "            input_fitur.append(sequence_fitur)\n",
    "            target.append(sequence_target)\n",
    "    return input_fitur, target"
   ]
  },
  {
   "cell_type": "code",
   "execution_count": 9,
   "metadata": {},
   "outputs": [],
   "source": [
    "jumlah_fitur = 2\n",
    "hidden_neuron = 3"
   ]
  },
  {
   "cell_type": "code",
   "execution_count": 10,
   "metadata": {},
   "outputs": [
    {
     "output_type": "execute_result",
     "data": {
      "text/plain": [
       "               0        1\n",
       "0.06970  0.00909  0.07273\n",
       "0.02424  0.07273  0.06970\n",
       "0.13030  0.06970  0.02424\n",
       "0.02121  0.02424  0.13030\n",
       "0.27273  0.13030  0.02121\n",
       "0.00000  0.02121  0.27273\n",
       "0.22727  0.27273  0.00000\n",
       "0.33939  0.00000  0.22727\n",
       "0.42727  0.22727  0.33939\n",
       "0.33939  0.33939  0.42727\n",
       "0.70000  0.42727  0.33939\n",
       "0.34242  0.33939  0.70000\n",
       "0.67879  0.70000  0.34242\n",
       "0.88788  0.34242  0.67879\n",
       "0.63636  0.67879  0.88788\n",
       "0.53333  0.88788  0.63636\n",
       "0.57879  0.63636  0.53333\n",
       "0.83030  0.53333  0.57879\n",
       "0.91212  0.57879  0.83030\n",
       "0.66364  0.83030  0.91212\n",
       "0.66970  0.91212  0.66364\n",
       "0.23939  0.66364  0.66970\n",
       "0.81515  0.66970  0.23939\n",
       "0.53636  0.23939  0.81515\n",
       "0.76061  0.81515  0.53636\n",
       "1.00000  0.53636  0.76061\n",
       "0.87879  0.76061  1.00000\n",
       "0.51212  1.00000  0.87879\n",
       "0.32727  0.87879  0.51212\n",
       "0.93636  0.51212  0.32727\n",
       "0.46667  0.32727  0.93636\n",
       "0.73030  0.93636  0.46667"
      ],
      "text/html": "<div>\n<style scoped>\n    .dataframe tbody tr th:only-of-type {\n        vertical-align: middle;\n    }\n\n    .dataframe tbody tr th {\n        vertical-align: top;\n    }\n\n    .dataframe thead th {\n        text-align: right;\n    }\n</style>\n<table border=\"1\" class=\"dataframe\">\n  <thead>\n    <tr style=\"text-align: right;\">\n      <th></th>\n      <th>0</th>\n      <th>1</th>\n    </tr>\n  </thead>\n  <tbody>\n    <tr>\n      <th>0.06970</th>\n      <td>0.00909</td>\n      <td>0.07273</td>\n    </tr>\n    <tr>\n      <th>0.02424</th>\n      <td>0.07273</td>\n      <td>0.06970</td>\n    </tr>\n    <tr>\n      <th>0.13030</th>\n      <td>0.06970</td>\n      <td>0.02424</td>\n    </tr>\n    <tr>\n      <th>0.02121</th>\n      <td>0.02424</td>\n      <td>0.13030</td>\n    </tr>\n    <tr>\n      <th>0.27273</th>\n      <td>0.13030</td>\n      <td>0.02121</td>\n    </tr>\n    <tr>\n      <th>0.00000</th>\n      <td>0.02121</td>\n      <td>0.27273</td>\n    </tr>\n    <tr>\n      <th>0.22727</th>\n      <td>0.27273</td>\n      <td>0.00000</td>\n    </tr>\n    <tr>\n      <th>0.33939</th>\n      <td>0.00000</td>\n      <td>0.22727</td>\n    </tr>\n    <tr>\n      <th>0.42727</th>\n      <td>0.22727</td>\n      <td>0.33939</td>\n    </tr>\n    <tr>\n      <th>0.33939</th>\n      <td>0.33939</td>\n      <td>0.42727</td>\n    </tr>\n    <tr>\n      <th>0.70000</th>\n      <td>0.42727</td>\n      <td>0.33939</td>\n    </tr>\n    <tr>\n      <th>0.34242</th>\n      <td>0.33939</td>\n      <td>0.70000</td>\n    </tr>\n    <tr>\n      <th>0.67879</th>\n      <td>0.70000</td>\n      <td>0.34242</td>\n    </tr>\n    <tr>\n      <th>0.88788</th>\n      <td>0.34242</td>\n      <td>0.67879</td>\n    </tr>\n    <tr>\n      <th>0.63636</th>\n      <td>0.67879</td>\n      <td>0.88788</td>\n    </tr>\n    <tr>\n      <th>0.53333</th>\n      <td>0.88788</td>\n      <td>0.63636</td>\n    </tr>\n    <tr>\n      <th>0.57879</th>\n      <td>0.63636</td>\n      <td>0.53333</td>\n    </tr>\n    <tr>\n      <th>0.83030</th>\n      <td>0.53333</td>\n      <td>0.57879</td>\n    </tr>\n    <tr>\n      <th>0.91212</th>\n      <td>0.57879</td>\n      <td>0.83030</td>\n    </tr>\n    <tr>\n      <th>0.66364</th>\n      <td>0.83030</td>\n      <td>0.91212</td>\n    </tr>\n    <tr>\n      <th>0.66970</th>\n      <td>0.91212</td>\n      <td>0.66364</td>\n    </tr>\n    <tr>\n      <th>0.23939</th>\n      <td>0.66364</td>\n      <td>0.66970</td>\n    </tr>\n    <tr>\n      <th>0.81515</th>\n      <td>0.66970</td>\n      <td>0.23939</td>\n    </tr>\n    <tr>\n      <th>0.53636</th>\n      <td>0.23939</td>\n      <td>0.81515</td>\n    </tr>\n    <tr>\n      <th>0.76061</th>\n      <td>0.81515</td>\n      <td>0.53636</td>\n    </tr>\n    <tr>\n      <th>1.00000</th>\n      <td>0.53636</td>\n      <td>0.76061</td>\n    </tr>\n    <tr>\n      <th>0.87879</th>\n      <td>0.76061</td>\n      <td>1.00000</td>\n    </tr>\n    <tr>\n      <th>0.51212</th>\n      <td>1.00000</td>\n      <td>0.87879</td>\n    </tr>\n    <tr>\n      <th>0.32727</th>\n      <td>0.87879</td>\n      <td>0.51212</td>\n    </tr>\n    <tr>\n      <th>0.93636</th>\n      <td>0.51212</td>\n      <td>0.32727</td>\n    </tr>\n    <tr>\n      <th>0.46667</th>\n      <td>0.32727</td>\n      <td>0.93636</td>\n    </tr>\n    <tr>\n      <th>0.73030</th>\n      <td>0.93636</td>\n      <td>0.46667</td>\n    </tr>\n  </tbody>\n</table>\n</div>"
     },
     "metadata": {},
     "execution_count": 10
    }
   ],
   "source": [
    "input_fitur, target=jumlahfitur(normalisasiData, jumlah_fitur)\n",
    "dataFitur = pd.DataFrame(input_fitur,target)\n",
    "dataFitur"
   ]
  },
  {
   "cell_type": "code",
   "execution_count": 11,
   "metadata": {},
   "outputs": [],
   "source": [
    "# pembagian dataset\n",
    "# data training\n",
    "data_train = input_fitur[0:int(len(input_fitur)*0.7)]\n",
    "data_train = np.asarray(data_train)\n",
    "target_train = target[0:int(len(target)*0.7)]\n",
    "target_train = np.asarray(target_train)\n",
    "# data testing\n",
    "data_test = input_fitur[int(len(input_fitur)*0.7):]\n",
    "data_test = np.asarray(data_test)\n",
    "target_test = target[int(len(target)*0.7):]\n",
    "target_test = np.asarray(target_test)\n",
    "target_train = target_train.reshape(len(target_train),1)"
   ]
  },
  {
   "cell_type": "code",
   "execution_count": 12,
   "metadata": {},
   "outputs": [
    {
     "output_type": "execute_result",
     "data": {
      "text/plain": [
       "22"
      ]
     },
     "metadata": {},
     "execution_count": 12
    }
   ],
   "source": [
    "len(data_train)"
   ]
  },
  {
   "cell_type": "code",
   "execution_count": 13,
   "metadata": {},
   "outputs": [
    {
     "output_type": "execute_result",
     "data": {
      "text/plain": [
       "10"
      ]
     },
     "metadata": {},
     "execution_count": 13
    }
   ],
   "source": [
    "len(data_test)"
   ]
  },
  {
   "cell_type": "markdown",
   "metadata": {},
   "source": [
    "# TRAINING"
   ]
  },
  {
   "cell_type": "code",
   "execution_count": 14,
   "metadata": {},
   "outputs": [
    {
     "output_type": "execute_result",
     "data": {
      "text/plain": [
       "          0         1\n",
       "0 -0.502704  0.227121\n",
       "1 -0.750233  0.095135\n",
       "2 -0.094644  0.672179"
      ],
      "text/html": "<div>\n<style scoped>\n    .dataframe tbody tr th:only-of-type {\n        vertical-align: middle;\n    }\n\n    .dataframe tbody tr th {\n        vertical-align: top;\n    }\n\n    .dataframe thead th {\n        text-align: right;\n    }\n</style>\n<table border=\"1\" class=\"dataframe\">\n  <thead>\n    <tr style=\"text-align: right;\">\n      <th></th>\n      <th>0</th>\n      <th>1</th>\n    </tr>\n  </thead>\n  <tbody>\n    <tr>\n      <th>0</th>\n      <td>-0.502704</td>\n      <td>0.227121</td>\n    </tr>\n    <tr>\n      <th>1</th>\n      <td>-0.750233</td>\n      <td>0.095135</td>\n    </tr>\n    <tr>\n      <th>2</th>\n      <td>-0.094644</td>\n      <td>0.672179</td>\n    </tr>\n  </tbody>\n</table>\n</div>"
     },
     "metadata": {},
     "execution_count": 14
    }
   ],
   "source": [
    "# TRAINING\n",
    "# inisialiasi input weight\n",
    "inputweight = pd.DataFrame(np.random.uniform(-1, 1,(hidden_neuron,jumlah_fitur)))\n",
    "inputweight"
   ]
  },
  {
   "cell_type": "code",
   "execution_count": 15,
   "metadata": {},
   "outputs": [],
   "source": [
    "inputweight.to_excel('manualisasi_inputweight.xlsx')"
   ]
  },
  {
   "cell_type": "code",
   "execution_count": 16,
   "metadata": {},
   "outputs": [],
   "source": [
    "# inisialisasi bias\n",
    "bias = pd.DataFrame(np.random.uniform(-.5, .5, hidden_neuron))\n",
    "# bias"
   ]
  },
  {
   "cell_type": "code",
   "execution_count": 17,
   "metadata": {},
   "outputs": [],
   "source": [
    "bias.to_excel('manualisasi_bias.xlsx')"
   ]
  },
  {
   "cell_type": "code",
   "execution_count": 18,
   "metadata": {},
   "outputs": [],
   "source": [
    "def transpose (inputweight):\n",
    "    transpose_inputweight = np.zeros((inputweight.shape[1],inputweight.shape[0]))\n",
    "    for i in range(inputweight.shape[0]):\n",
    "        for j in range(inputweight.shape[1]):\n",
    "            transpose_inputweight[j][i] = inputweight.iloc[i,j]\n",
    "    return transpose_inputweight\n",
    "transpose_inputweight = transpose(inputweight)"
   ]
  },
  {
   "cell_type": "code",
   "execution_count": 19,
   "metadata": {},
   "outputs": [],
   "source": [
    "inputWeight_transpose = transpose(inputweight)"
   ]
  },
  {
   "cell_type": "code",
   "execution_count": 20,
   "metadata": {},
   "outputs": [
    {
     "output_type": "execute_result",
     "data": {
      "text/plain": [
       "array([[ 0.44577158, -0.28712195, -0.20090413]])"
      ]
     },
     "metadata": {},
     "execution_count": 20
    }
   ],
   "source": [
    "bias_transpose = transpose(bias)\n",
    "bias_transpose"
   ]
  },
  {
   "cell_type": "code",
   "execution_count": 21,
   "metadata": {},
   "outputs": [],
   "source": [
    "def perkalian_matriks(matriks1, matriks2):\n",
    "    matriks = []\n",
    "    for i in range(len(matriks1)):\n",
    "        temp = []\n",
    "        for j in range(len(matriks2[0])):\n",
    "            value = 0\n",
    "            for k in range(len(matriks2)):\n",
    "                value += (matriks1[i][k]* matriks2[k][j])\n",
    "            temp.append(value)\n",
    "        matriks.append(temp)\n",
    "    return np.asarray(matriks)"
   ]
  },
  {
   "cell_type": "code",
   "execution_count": 22,
   "metadata": {},
   "outputs": [
    {
     "output_type": "error",
     "ename": "AttributeError",
     "evalue": "module 'pandas' has no attribute 'perkalian_matriks'",
     "traceback": [
      "\u001b[1;31m---------------------------------------------------------------------------\u001b[0m",
      "\u001b[1;31mAttributeError\u001b[0m                            Traceback (most recent call last)",
      "\u001b[1;32m<ipython-input-22-1e1b4c439dcd>\u001b[0m in \u001b[0;36m<module>\u001b[1;34m\u001b[0m\n\u001b[1;32m----> 1\u001b[1;33m \u001b[0mHint\u001b[0m \u001b[1;33m=\u001b[0m \u001b[0mpd\u001b[0m\u001b[1;33m.\u001b[0m\u001b[0mperkalian_matriks\u001b[0m\u001b[1;33m(\u001b[0m\u001b[0mdata_train\u001b[0m\u001b[1;33m,\u001b[0m\u001b[0mtranspose_inputweight\u001b[0m\u001b[1;33m)\u001b[0m\u001b[1;33m+\u001b[0m\u001b[0mbias_transpose\u001b[0m\u001b[1;33m\u001b[0m\u001b[1;33m\u001b[0m\u001b[0m\n\u001b[0m",
      "\u001b[1;32m~\\anaconda3\\lib\\site-packages\\pandas\\__init__.py\u001b[0m in \u001b[0;36m__getattr__\u001b[1;34m(name)\u001b[0m\n\u001b[0;32m    256\u001b[0m             \u001b[1;32mreturn\u001b[0m \u001b[0m_SparseArray\u001b[0m\u001b[1;33m\u001b[0m\u001b[1;33m\u001b[0m\u001b[0m\n\u001b[0;32m    257\u001b[0m \u001b[1;33m\u001b[0m\u001b[0m\n\u001b[1;32m--> 258\u001b[1;33m         \u001b[1;32mraise\u001b[0m \u001b[0mAttributeError\u001b[0m\u001b[1;33m(\u001b[0m\u001b[1;34mf\"module 'pandas' has no attribute '{name}'\"\u001b[0m\u001b[1;33m)\u001b[0m\u001b[1;33m\u001b[0m\u001b[1;33m\u001b[0m\u001b[0m\n\u001b[0m\u001b[0;32m    259\u001b[0m \u001b[1;33m\u001b[0m\u001b[0m\n\u001b[0;32m    260\u001b[0m \u001b[1;33m\u001b[0m\u001b[0m\n",
      "\u001b[1;31mAttributeError\u001b[0m: module 'pandas' has no attribute 'perkalian_matriks'"
     ]
    }
   ],
   "source": [
    "Hint = pd.perkalian_matriks(data_train,transpose_inputweight)+bias_transpose"
   ]
  },
  {
   "cell_type": "code",
   "execution_count": null,
   "metadata": {},
   "outputs": [],
   "source": [
    "#Hint = np.add(XtrainWt,bias_transpose)\n",
    "#Hint\n",
    "# Hint"
   ]
  },
  {
   "cell_type": "code",
   "execution_count": null,
   "metadata": {},
   "outputs": [],
   "source": [
    "# def tambahbias (XtrainWt,bias):\n",
    "#     nilai_Hint = XtrainWt\n",
    "#     for i in range (len(XtrainWt)):\n",
    "#         for j in range(len(bias)):\n",
    "#             nilai_Hint[i][j] = XtrainWt[i,j] + bias[j]\n",
    "#     return nilai_Hint\n",
    "# Hint = tambahbias(XtrainWt,bias)\n",
    "# Hint"
   ]
  },
  {
   "cell_type": "code",
   "execution_count": null,
   "metadata": {},
   "outputs": [],
   "source": [
    "# fungsi aktivasi\n",
    "def hitung_h(Hint):\n",
    "    h = (1/(1+np.exp(-1*Hint)))\n",
    "    return h\n",
    "h=hitung_h(Hint)\n",
    "# h"
   ]
  },
  {
   "cell_type": "code",
   "execution_count": null,
   "metadata": {},
   "outputs": [],
   "source": [
    "# transpose h\n",
    "def h_transpose (h):\n",
    "    transpose_h = np.zeros((h.shape[1],h.shape[0]))\n",
    "    for i in range(h.shape[0]):\n",
    "        for j in range(h.shape[1]):\n",
    "            transpose_h[j][i] = h[i,j]\n",
    "    return transpose_h\n",
    "transpose_h = h_transpose(h)\n",
    "# transpose_h"
   ]
  },
  {
   "cell_type": "code",
   "execution_count": null,
   "metadata": {},
   "outputs": [],
   "source": [
    "# HT*H\n",
    "perkalianHT_H = perkalian_matriks(transpose_h,h)"
   ]
  },
  {
   "cell_type": "code",
   "execution_count": null,
   "metadata": {},
   "outputs": [],
   "source": [
    "def inverse(perkalianHT_H):\n",
    "    inverseHT_H = []\n",
    "    for i in range(len(perkalianHT_H)):\n",
    "        temp_inverse=[]\n",
    "        for j in range(2*len(perkalianHT_H[i])):\n",
    "            if j < len(perkalianHT_H[i]):\n",
    "                temp_inverse.append(perkalianHT_H[i][j])\n",
    "            elif i == j-len(perkalianHT_H[i]):\n",
    "                temp_inverse.append(1)\n",
    "            else:\n",
    "                temp_inverse.append(0)\n",
    "        inverseHT_H.append(temp_inverse)\n",
    "    for k in range(len(inverseHT_H)):\n",
    "        key1 = inverseHT_H[k][k]\n",
    "        for l in range(len(inverseHT_H[k])):\n",
    "            inverseHT_H[k][l] /= key1\n",
    "        for m in range(len(inverseHT_H)):\n",
    "            if m == k:\n",
    "                continue\n",
    "            else:\n",
    "                key2 = inverseHT_H[m][k]\n",
    "                for n in range(len(inverseHT_H[k])):\n",
    "                    inverseHT_H[m][n] -= (key2*inverseHT_H[k][n])\n",
    "    for v in range (len(inverseHT_H)):\n",
    "        for u in range(int(len(inverseHT_H[v])/2)):\n",
    "            inverseHT_H[v].pop(0)\n",
    "    return inverseHT_H\n",
    "hasil_inverse = inverse(perkalianHT_H)"
   ]
  },
  {
   "cell_type": "code",
   "execution_count": null,
   "metadata": {},
   "outputs": [],
   "source": [
    "hasilmoore = perkalian_matriks(hasil_inverse,transpose_h)\n",
    "# hasilmoore"
   ]
  },
  {
   "cell_type": "code",
   "execution_count": null,
   "metadata": {},
   "outputs": [],
   "source": [
    "# menghitung output weight\n",
    "beta = perkalian_matriks(hasilmoore,target_train)\n",
    "# beta"
   ]
  },
  {
   "cell_type": "code",
   "execution_count": null,
   "metadata": {},
   "outputs": [],
   "source": [
    "# menghitung output layer\n",
    "gama_train = perkalian_matriks (h,beta)\n",
    "gama_train = abs(gama_train)\n",
    "# gama_test"
   ]
  },
  {
   "cell_type": "markdown",
   "metadata": {},
   "source": [
    "# DENORMALISASI"
   ]
  },
  {
   "cell_type": "code",
   "execution_count": null,
   "metadata": {},
   "outputs": [],
   "source": [
    "# denormalisasi\n",
    "def denormalisasi(data, hasil):\n",
    "    denormalisasiData = []\n",
    "    maximum = np.max(data, axis=0)\n",
    "    minimum = np.min(data, axis=0)\n",
    "    for x in hasil:\n",
    "        x_denormalisasi = x*(maximum-minimum)+minimum\n",
    "        denormalisasiData.append(round(float(x_denormalisasi)))\n",
    "    return denormalisasiData"
   ]
  },
  {
   "cell_type": "code",
   "execution_count": null,
   "metadata": {},
   "outputs": [],
   "source": [
    "hasil_denormalisasi_train = denormalisasi(data, gama_train)"
   ]
  },
  {
   "cell_type": "code",
   "execution_count": null,
   "metadata": {},
   "outputs": [],
   "source": [
    "targetError = denormalisasi(data,target_train)"
   ]
  },
  {
   "cell_type": "markdown",
   "metadata": {},
   "source": [
    "# PERHITUNGAN METRIC EVALUASI"
   ]
  },
  {
   "cell_type": "code",
   "execution_count": null,
   "metadata": {},
   "outputs": [],
   "source": [
    "\"\"\"def evaluasi(test, hasil_peramalan):\n",
    "    temp = 0\n",
    "    for i,j in zip(test,hasil_peramalan):\n",
    "        print(\"hasil peramalan = {} target = {}\".format(j,i))\n",
    "        temp += (abs(i-j)/(j))*100\n",
    "    MAPE = temp/(len(hasil_peramalan))\n",
    "    print(\"MAPE =\",MAPE)\"\"\""
   ]
  },
  {
   "cell_type": "code",
   "execution_count": null,
   "metadata": {},
   "outputs": [],
   "source": [
    "def smape(test, hasil_peramalan):\n",
    "    temp = 0\n",
    "    for i,j in zip(test,hasil_peramalan):\n",
    "        #print(\"target = {} hasil peramalan = {} \".format(i,j))\n",
    "        temp += 2*(abs(i-j)/(i+j))\n",
    "    smape = temp/len(hasil_peramalan)\n",
    "    print(\"sMAPE =\",smape)"
   ]
  },
  {
   "cell_type": "code",
   "execution_count": null,
   "metadata": {},
   "outputs": [],
   "source": [
    "#cek = smape(targetError, hasil_denormalisasi_train)"
   ]
  },
  {
   "cell_type": "code",
   "execution_count": null,
   "metadata": {},
   "outputs": [],
   "source": [
    "print(\"fitur =\",jumlah_fitur)\n",
    "print(\"hidden neuron =\",hidden_neuron)"
   ]
  },
  {
   "cell_type": "code",
   "execution_count": null,
   "metadata": {},
   "outputs": [],
   "source": [
    "train = smape(targetError,hasil_denormalisasi_train)"
   ]
  },
  {
   "cell_type": "code",
   "execution_count": null,
   "metadata": {},
   "outputs": [],
   "source": [
    "#mape_train = np.sum(np.absolute((error*100)/len(targetError)))\n",
    "#mape_train "
   ]
  },
  {
   "cell_type": "markdown",
   "metadata": {},
   "source": [
    "# TESTING"
   ]
  },
  {
   "cell_type": "code",
   "execution_count": null,
   "metadata": {},
   "outputs": [],
   "source": [
    "# TESTING\n",
    "Hint_test = perkalian_matriks(data_test, transpose_inputweight)+bias_transpose\n",
    "Hint_test\n",
    "# XtestWt"
   ]
  },
  {
   "cell_type": "code",
   "execution_count": null,
   "metadata": {},
   "outputs": [],
   "source": [
    "\"\"\"def tambahbias_testing (XtestWt,bias):\n",
    "    nilai_HintTest = XtestWt\n",
    "    for i in range (len(XtestWt)):\n",
    "        for j in range(len(bias)):\n",
    "            nilai_HintTest[i][j] = XtestWt[i,j] + bias[j]\n",
    "    return nilai_HintTest\n",
    "Hint_test = tambahbias_testing(XtestWt,bias)\n",
    "# Hint_test\"\"\""
   ]
  },
  {
   "cell_type": "code",
   "execution_count": null,
   "metadata": {},
   "outputs": [],
   "source": [
    "# menghitung fungsi aktivasi\n",
    "h_test=hitung_h(Hint_test)\n",
    "h_test"
   ]
  },
  {
   "cell_type": "code",
   "execution_count": null,
   "metadata": {},
   "outputs": [],
   "source": [
    "beta"
   ]
  },
  {
   "cell_type": "code",
   "execution_count": null,
   "metadata": {},
   "outputs": [],
   "source": [
    "# menghitung output layer\n",
    "gama_test = perkalian_matriks (h_test,beta)\n",
    "gama_test = abs(gama_test)\n",
    "# gama_test"
   ]
  },
  {
   "cell_type": "code",
   "execution_count": null,
   "metadata": {},
   "outputs": [],
   "source": [
    "target_test"
   ]
  },
  {
   "cell_type": "code",
   "execution_count": null,
   "metadata": {},
   "outputs": [],
   "source": [
    "hasil_denormalisasi_test = denormalisasi(data, gama_test)"
   ]
  },
  {
   "cell_type": "code",
   "execution_count": null,
   "metadata": {},
   "outputs": [],
   "source": [
    "targetError_test = denormalisasi(data,target_test)"
   ]
  },
  {
   "cell_type": "code",
   "execution_count": null,
   "metadata": {},
   "outputs": [],
   "source": [
    "print(\"fitur =\",jumlah_fitur)\n",
    "print(\"hidden neuron =\",hidden_neuron)"
   ]
  },
  {
   "cell_type": "code",
   "execution_count": null,
   "metadata": {},
   "outputs": [],
   "source": [
    "test = smape(targetError_test,hasil_denormalisasi_test)"
   ]
  },
  {
   "cell_type": "code",
   "execution_count": null,
   "metadata": {},
   "outputs": [],
   "source": [
    "\"\"\"plt.plot(targetError)\n",
    "plt.plot(hasil_denormalisasi_train)\n",
    "plt.legend(['Train Data', 'ELM Predictions'])\"\"\""
   ]
  },
  {
   "cell_type": "code",
   "execution_count": null,
   "metadata": {},
   "outputs": [],
   "source": [
    "\"\"\"plt.plot(targetError_test)\n",
    "plt.plot(hasil_denormalisasi_test)\n",
    "plt.legend(['Test Data', 'ELM Predictions'])\"\"\""
   ]
  },
  {
   "cell_type": "code",
   "execution_count": null,
   "metadata": {},
   "outputs": [],
   "source": []
  }
 ],
 "metadata": {
  "kernelspec": {
   "display_name": "Python 3",
   "language": "python",
   "name": "python3"
  },
  "language_info": {
   "codemirror_mode": {
    "name": "ipython",
    "version": 3
   },
   "file_extension": ".py",
   "mimetype": "text/x-python",
   "name": "python",
   "nbconvert_exporter": "python",
   "pygments_lexer": "ipython3",
   "version": "3.8.3-final"
  }
 },
 "nbformat": 4,
 "nbformat_minor": 2
}