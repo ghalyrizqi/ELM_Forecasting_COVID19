{
 "metadata": {
  "language_info": {
   "codemirror_mode": {
    "name": "ipython",
    "version": 3
   },
   "file_extension": ".py",
   "mimetype": "text/x-python",
   "name": "python",
   "nbconvert_exporter": "python",
   "pygments_lexer": "ipython3",
   "version": "3.8.3-final"
  },
  "orig_nbformat": 2,
  "kernelspec": {
   "name": "python3",
   "display_name": "Python 3"
  }
 },
 "nbformat": 4,
 "nbformat_minor": 2,
 "cells": [
  {
   "cell_type": "code",
   "execution_count": 26,
   "metadata": {},
   "outputs": [],
   "source": [
    "#read API\n",
    "import requests\n",
    "resp=requests.get(\"https://data.covid19.go.id/public/api/update.json\")"
   ]
  },
  {
   "cell_type": "code",
   "execution_count": 27,
   "metadata": {},
   "outputs": [
    {
     "output_type": "stream",
     "name": "stdout",
     "text": [
      "<Response [200]>\n"
     ]
    }
   ],
   "source": [
    "#status code\n",
    "print (resp)"
   ]
  },
  {
   "cell_type": "code",
   "execution_count": 28,
   "metadata": {},
   "outputs": [
    {
     "output_type": "stream",
     "name": "stdout",
     "text": [
      "{'Server': 'nginx', 'Date': 'Mon, 07 Dec 2020 22:02:17 GMT', 'Content-Type': 'application/json', 'Last-Modified': 'Mon, 07 Dec 2020 22:01:01 GMT', 'Transfer-Encoding': 'chunked', 'Connection': 'keep-alive', 'Vary': 'Accept-Encoding', 'ETag': 'W/\"5fcea61d-1a41b\"', 'X-Content-Type-Options': 'nosniff', 'X-XSS-Protection': '1; mode=block', 'Strict-Transport-Security': 'max-age=31536000; includeSubDomains; preload', 'Content-Encoding': 'gzip'}\n"
     ]
    }
   ],
   "source": [
    "#Headers API\n",
    "print(resp.headers)"
   ]
  },
  {
   "cell_type": "code",
   "execution_count": 29,
   "metadata": {},
   "outputs": [],
   "source": [
    "#Mengekstrak Isi Respon\n",
    "cov_id_raw = resp.json()"
   ]
  },
  {
   "cell_type": "code",
   "execution_count": 30,
   "metadata": {},
   "outputs": [
    {
     "output_type": "stream",
     "name": "stdout",
     "text": [
      "Length of cov_id_raw : 2.\n",
      "Komponen cov_id_raw  : dict_keys(['data', 'update']).\n"
     ]
    }
   ],
   "source": [
    "#Mengekstrak isi Respon - 2\n",
    "print('Length of cov_id_raw : %d.' %len(cov_id_raw))\n",
    "print('Komponen cov_id_raw  : %s.' %cov_id_raw.keys())\n",
    "cov_id_update = cov_id_raw['update']\n"
   ]
  },
  {
   "cell_type": "code",
   "execution_count": 31,
   "metadata": {},
   "outputs": [
    {
     "output_type": "stream",
     "name": "stdout",
     "text": [
      "Tanggal pembaharuan data penambahan kasus : 2020-12-07\nJumlah penambahan kasus sembuh : 4431\nJumlah penambahan kasus meninggal : 127\nJumlah total kasus positif hingga saat ini : 581550\nJumlah total kasus meninggal hingga saat ini: 17867\n"
     ]
    }
   ],
   "source": [
    "#Analisa Data\n",
    "\n",
    "print('Tanggal pembaharuan data penambahan kasus :', cov_id_update['penambahan']['tanggal'])\n",
    "print('Jumlah penambahan kasus sembuh :', cov_id_update['penambahan']['jumlah_sembuh'])\n",
    "print('Jumlah penambahan kasus meninggal :', cov_id_update['penambahan']['jumlah_meninggal'])\n",
    "print('Jumlah total kasus positif hingga saat ini :', cov_id_update['total']['jumlah_positif'])\n",
    "print('Jumlah total kasus meninggal hingga saat ini:', cov_id_update['total']['jumlah_meninggal'])"
   ]
  },
  {
   "cell_type": "code",
   "execution_count": 9,
   "metadata": {},
   "outputs": [],
   "source": []
  },
  {
   "cell_type": "code",
   "execution_count": 32,
   "metadata": {},
   "outputs": [
    {
     "output_type": "stream",
     "name": "stdout",
     "text": [
      "<class 'pandas.core.frame.DataFrame'>\nRangeIndex: 281 entries, 0 to 280\nData columns (total 11 columns):\n #   Column                Non-Null Count  Dtype \n---  ------                --------------  ----- \n 0   key_as_string         281 non-null    object\n 1   key                   281 non-null    int64 \n 2   doc_count             281 non-null    int64 \n 3   jumlah_meninggal      281 non-null    object\n 4   jumlah_sembuh         281 non-null    object\n 5   jumlah_positif        281 non-null    object\n 6   jumlah_dirawat        281 non-null    object\n 7   jumlah_positif_kum    281 non-null    object\n 8   jumlah_sembuh_kum     281 non-null    object\n 9   jumlah_meninggal_kum  281 non-null    object\n 10  jumlah_dirawat_kum    281 non-null    object\ndtypes: int64(2), object(9)\nmemory usage: 24.3+ KB\nInfo cov_id:\n None\n\nLima data teratas cov_id:\n               key_as_string            key  doc_count jumlah_meninggal  \\\n0  2020-03-02T00:00:00.000Z  1583107200000          1     {'value': 0}   \n1  2020-03-03T00:00:00.000Z  1583193600000          1     {'value': 0}   \n2  2020-03-04T00:00:00.000Z  1583280000000          1     {'value': 0}   \n3  2020-03-05T00:00:00.000Z  1583366400000          1     {'value': 0}   \n4  2020-03-06T00:00:00.000Z  1583452800000          1     {'value': 0}   \n\n  jumlah_sembuh jumlah_positif jumlah_dirawat jumlah_positif_kum  \\\n0  {'value': 0}   {'value': 2}   {'value': 2}       {'value': 2}   \n1  {'value': 0}   {'value': 0}   {'value': 0}       {'value': 2}   \n2  {'value': 0}   {'value': 0}   {'value': 0}       {'value': 2}   \n3  {'value': 0}   {'value': 0}   {'value': 0}       {'value': 2}   \n4  {'value': 0}   {'value': 2}   {'value': 2}       {'value': 4}   \n\n  jumlah_sembuh_kum jumlah_meninggal_kum jumlah_dirawat_kum  \n0      {'value': 0}         {'value': 0}       {'value': 2}  \n1      {'value': 0}         {'value': 0}       {'value': 2}  \n2      {'value': 0}         {'value': 0}       {'value': 2}  \n3      {'value': 0}         {'value': 0}       {'value': 2}  \n4      {'value': 0}         {'value': 0}       {'value': 4}  \n"
     ]
    }
   ],
   "source": [
    "#memperoleh informasi yang lebih lengkap\n",
    "import numpy as np\n",
    "import pandas as pd\n",
    "cov_id = pd.DataFrame(cov_id_raw['update']['harian'])\n",
    "print('Info cov_id:\\n', cov_id.info())\n",
    "print('\\nLima data teratas cov_id:\\n', cov_id.head())"
   ]
  },
  {
   "cell_type": "code",
   "execution_count": 35,
   "metadata": {},
   "outputs": [
    {
     "output_type": "stream",
     "name": "stdout",
     "text": [
      "Lima data teratas:\n               key_as_string jumlah_meninggal jumlah_sembuh jumlah_positif\n0  2020-03-02T00:00:00.000Z     {'value': 0}  {'value': 0}   {'value': 2}\n1  2020-03-03T00:00:00.000Z     {'value': 0}  {'value': 0}   {'value': 0}\n2  2020-03-04T00:00:00.000Z     {'value': 0}  {'value': 0}   {'value': 0}\n3  2020-03-05T00:00:00.000Z     {'value': 0}  {'value': 0}   {'value': 0}\n4  2020-03-06T00:00:00.000Z     {'value': 0}  {'value': 0}   {'value': 2}\n"
     ]
    }
   ],
   "source": [
    "#menjinakkan data\n",
    "cov_id_tidy = cov_id[['key_as_string','jumlah_meninggal','jumlah_sembuh','jumlah_positif']]\n",
    "print('Lima data teratas:\\n', cov_id_tidy.head())"
   ]
  },
  {
   "cell_type": "code",
   "execution_count": 37,
   "metadata": {},
   "outputs": [],
   "source": [
    "cov_id_tidy.to_excel('data_8_des.xlsx')"
   ]
  },
  {
   "cell_type": "code",
   "execution_count": null,
   "metadata": {},
   "outputs": [],
   "source": []
  }
 ]
}